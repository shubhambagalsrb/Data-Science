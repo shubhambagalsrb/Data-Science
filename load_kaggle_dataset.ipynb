{
  "nbformat": 4,
  "nbformat_minor": 0,
  "metadata": {
    "colab": {
      "provenance": [],
      "authorship_tag": "ABX9TyPXOrtTunJF8ePXKI290XWs",
      "include_colab_link": true
    },
    "kernelspec": {
      "name": "python3",
      "display_name": "Python 3"
    },
    "language_info": {
      "name": "python"
    }
  },
  "cells": [
    {
      "cell_type": "markdown",
      "metadata": {
        "id": "view-in-github",
        "colab_type": "text"
      },
      "source": [
        "<a href=\"https://colab.research.google.com/github/shubhambagalsrb/Data-Science/blob/main/load_kaggle_dataset.ipynb\" target=\"_parent\"><img src=\"https://colab.research.google.com/assets/colab-badge.svg\" alt=\"Open In Colab\"/></a>"
      ]
    },
    {
      "cell_type": "code",
      "source": [
        "path_format = \"username/dataset-name\"\n"
      ],
      "metadata": {
        "id": "_ygsd8jt2aUC"
      },
      "execution_count": 1,
      "outputs": []
    },
    {
      "cell_type": "code",
      "source": [
        "path = \"muhammadshahidazeem/customer-churn-dataset\"\n",
        "file_name = \"customer_churn_dataset-training-master.csv\""
      ],
      "metadata": {
        "id": "BNu9qGS42iF1"
      },
      "execution_count": 4,
      "outputs": []
    },
    {
      "cell_type": "code",
      "execution_count": 7,
      "metadata": {
        "id": "WlRK4GwS1On3"
      },
      "outputs": [],
      "source": [
        "# import kagglehub\n",
        "# from kagglehub import KaggleDatasetAdapter\n",
        "\n",
        "# # Load a DataFrame with a specific version of a CSV\n",
        "# df = kagglehub.load_dataset(\n",
        "#     KaggleDatasetAdapter.PANDAS,\n",
        "#     \"unsdsn/world-happiness/versions/1\",\n",
        "#     \"2016.csv\",\n",
        "# )\n",
        "\n",
        "# # Load a DataFrame with specific columns from a parquet file\n",
        "# df = kagglehub.load_dataset(\n",
        "#     KaggleDatasetAdapter.PANDAS,\n",
        "#     \"robikscube/textocr-text-extraction-from-images-dataset\",\n",
        "#     \"annot.parquet\",\n",
        "#     pandas_kwargs={\"columns\": [\"image_id\", \"bbox\", \"points\", \"area\"]}\n",
        "# )\n",
        "\n",
        "# # Load a dictionary of DataFrames from an Excel file where the keys are sheet names\n",
        "# # and the values are DataFrames for each sheet's data. NOTE: As written, this requires\n",
        "# # installing the default openpyxl engine.\n",
        "# df_dict = kagglehub.load_dataset(\n",
        "#     KaggleDatasetAdapter.PANDAS,\n",
        "#     \"theworldbank/education-statistics\",\n",
        "#     \"edstats-excel-zip-72-mb-/EdStatsEXCEL.xlsx\",\n",
        "#     pandas_kwargs={\"sheet_name\": None},\n",
        "# )\n",
        "\n",
        "# # Load a DataFrame using an XML file (with the natively available etree parser)\n",
        "# df = load_dataset(\n",
        "#     KaggleDatasetAdapter.PANDAS,\n",
        "#     \"parulpandey/covid19-clinical-trials-dataset\",\n",
        "#     \"COVID-19 CLinical trials studies/COVID-19 CLinical trials studies/NCT00571389.xml\",\n",
        "#     pandas_kwargs={\"parser\": \"etree\"},\n",
        "# )\n",
        "\n",
        "# # Load a DataFrame by executing a SQL query against a SQLite DB\n",
        "# df = kagglehub.load_dataset(\n",
        "#     KaggleDatasetAdapter.PANDAS,\n",
        "#     \"wyattowalsh/basketball\",\n",
        "#     \"nba.sqlite\",\n",
        "#     sql_query=\"SELECT person_id, player_name FROM draft_history\",\n",
        "# )"
      ]
    },
    {
      "cell_type": "code",
      "source": [
        "import kagglehub\n",
        "from kagglehub import KaggleDatasetAdapter\n",
        "\n",
        "# Load a DataFrame with a specific version of a CSV\n",
        "df = kagglehub.load_dataset(\n",
        "    KaggleDatasetAdapter.PANDAS,\n",
        "    path,\n",
        "    file_name,\n",
        ")"
      ],
      "metadata": {
        "colab": {
          "base_uri": "https://localhost:8080/"
        },
        "id": "NCGOK_aA2upR",
        "outputId": "ba727a4a-2f16-45a4-d941-bf92f00d4edc"
      },
      "execution_count": 5,
      "outputs": [
        {
          "output_type": "stream",
          "name": "stdout",
          "text": [
            "Warning: Looks like you're using an outdated `kagglehub` version (installed: 0.3.6), please consider upgrading to the latest version (0.3.7).\n",
            "Downloading from https://www.kaggle.com/api/v1/datasets/download/muhammadshahidazeem/customer-churn-dataset?dataset_version_number=1&file_name=customer_churn_dataset-training-master.csv...\n"
          ]
        },
        {
          "output_type": "stream",
          "name": "stderr",
          "text": [
            "100%|██████████| 5.83M/5.83M [00:00<00:00, 54.6MB/s]"
          ]
        },
        {
          "output_type": "stream",
          "name": "stdout",
          "text": [
            "Extracting zip of customer_churn_dataset-training-master.csv...\n"
          ]
        },
        {
          "output_type": "stream",
          "name": "stderr",
          "text": [
            "\n"
          ]
        }
      ]
    },
    {
      "cell_type": "code",
      "source": [],
      "metadata": {
        "id": "zJZIFMfK3wwB"
      },
      "execution_count": null,
      "outputs": []
    }
  ]
}